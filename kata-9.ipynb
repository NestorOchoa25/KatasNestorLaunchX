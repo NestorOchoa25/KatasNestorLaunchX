{
 "cells": [
  {
   "cell_type": "markdown",
   "metadata": {},
   "source": [
    "## Kata 9"
   ]
  },
  {
   "cell_type": "markdown",
   "metadata": {},
   "source": [
    "Trabajar con argumentos en funciones"
   ]
  },
  {
   "cell_type": "code",
   "execution_count": 1,
   "metadata": {},
   "outputs": [],
   "source": [
    "def informeCombustible(tanque1, tanque2, tanque3):\n",
    "    return f'El promedio de los tanques es {(tanque1 + tanque2 + tanque3) / 3}'"
   ]
  },
  {
   "cell_type": "code",
   "execution_count": 4,
   "metadata": {},
   "outputs": [
    {
     "name": "stdout",
     "output_type": "stream",
     "text": [
      "El promedio de los tanques es 37.0\n"
     ]
    }
   ],
   "source": [
    "print(informeCombustible(60, 21, 30))"
   ]
  },
  {
   "cell_type": "code",
   "execution_count": 6,
   "metadata": {},
   "outputs": [],
   "source": [
    "def calcularPromedio(tanque1, tanque2, tanque3):\n",
    "    return (tanque1 + tanque2 + tanque3) / 3"
   ]
  },
  {
   "cell_type": "code",
   "execution_count": 9,
   "metadata": {},
   "outputs": [
    {
     "name": "stdout",
     "output_type": "stream",
     "text": [
      "El promedio de los tanques es 37.0\n"
     ]
    }
   ],
   "source": [
    "def informeCombustible(tanque1, tanque2, tanque3):\n",
    "    return f'El promedio de los tanques es {calcularPromedio(tanque1, tanque2, tanque3)}'\n",
    "\n",
    "print(informeCombustible(60, 21, 30))"
   ]
  },
  {
   "cell_type": "markdown",
   "metadata": {},
   "source": [
    "Trabajo con argumentos de palabra clave"
   ]
  },
  {
   "cell_type": "code",
   "execution_count": 21,
   "metadata": {},
   "outputs": [
    {
     "name": "stdout",
     "output_type": "stream",
     "text": [
      "Destino: Luna\n",
      "    Hora de desplazamiento: 10:30\n",
      "    Tiempo de vuelo: 10 horas\n",
      "    Tanque externo: 10\n",
      "    Tanque interno: 30\n"
     ]
    }
   ],
   "source": [
    "def obtenerInformeMision(destino, hora_desplazamiento, tiempo_vuelo, tanque_externo, tanque_interno):\n",
    "    return f\"\"\"Destino: {destino}\n",
    "    Hora de desplazamiento: {hora_desplazamiento}\n",
    "    Tiempo de vuelo: {tiempo_vuelo}\n",
    "    Tanque externo: {tanque_externo}\n",
    "    Tanque interno: {tanque_interno}\"\"\"\n",
    "print(obtenerInformeMision(\"Luna\", \"10:30\", \"10 horas\", 10, 30))"
   ]
  },
  {
   "cell_type": "code",
   "execution_count": 23,
   "metadata": {},
   "outputs": [
    {
     "name": "stdout",
     "output_type": "stream",
     "text": [
      "Desitino: Luna\n",
      "    Tiempo de viaje: 60\n",
      "    Combustible: 50\n"
     ]
    }
   ],
   "source": [
    "def obtenerInformeMision(destino, *minutos, **tanques):\n",
    "    return f\"\"\"Desitino: {destino}\n",
    "    Tiempo de viaje: {sum(minutos)}\n",
    "    Combustible: {sum(tanques.values())}\"\"\"\n",
    "print(obtenerInformeMision(\"Luna\", 10, 20, 30, interno = 10, externo = 40))"
   ]
  },
  {
   "cell_type": "code",
   "execution_count": 31,
   "metadata": {},
   "outputs": [
    {
     "name": "stdout",
     "output_type": "stream",
     "text": [
      "Desitino: Luna\n",
      "    Tiempo de viaje: 60\n",
      "    Combustible interno: 10\n",
      "Combustible externo: 40\n",
      " \n"
     ]
    }
   ],
   "source": [
    "def obtenerInformeMision(destino, *minutos, **tanques):\n",
    "    combustibles = ''\n",
    "    for nombre, valor in tanques.items():\n",
    "        combustibles += f'Combustible {nombre}: {valor}\\n'\n",
    "\n",
    "    return f\"\"\"Desitino: {destino}\n",
    "    Tiempo de viaje: {sum(minutos)}\n",
    "    {combustibles} \"\"\"\n",
    "    \n",
    "print(obtenerInformeMision(\"Luna\", 10, 20, 30, interno = 10, externo = 40))"
   ]
  }
 ],
 "metadata": {
  "interpreter": {
   "hash": "31f2aee4e71d21fbe5cf8b01ff0e069b9275f58929596ceb00d14d90e3e16cd6"
  },
  "kernelspec": {
   "display_name": "Python 3.8.10 64-bit",
   "language": "python",
   "name": "python3"
  },
  "language_info": {
   "codemirror_mode": {
    "name": "ipython",
    "version": 3
   },
   "file_extension": ".py",
   "mimetype": "text/x-python",
   "name": "python",
   "nbconvert_exporter": "python",
   "pygments_lexer": "ipython3",
   "version": "3.8.10"
  },
  "orig_nbformat": 4
 },
 "nbformat": 4,
 "nbformat_minor": 2
}
